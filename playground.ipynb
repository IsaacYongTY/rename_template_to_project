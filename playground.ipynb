{
 "metadata": {
  "language_info": {
   "codemirror_mode": {
    "name": "ipython",
    "version": 3
   },
   "file_extension": ".py",
   "mimetype": "text/x-python",
   "name": "python",
   "nbconvert_exporter": "python",
   "pygments_lexer": "ipython3",
   "version": 3
  },
  "orig_nbformat": 2,
  "kernelspec": {
   "name": "python_defaultSpec_1595750054557",
   "display_name": "Python 3.7.6 64-bit ('base': conda)"
  }
 },
 "nbformat": 4,
 "nbformat_minor": 2,
 "cells": [
  {
   "cell_type": "code",
   "execution_count": 1,
   "metadata": {},
   "outputs": [],
   "source": [
    "with open(\"test.txt\",\"w\") as f:\n",
    "    f.write('test success')"
   ]
  },
  {
   "cell_type": "code",
   "execution_count": 2,
   "metadata": {},
   "outputs": [],
   "source": [
    "f = open(\"test2.txt\",\"w\")"
   ]
  },
  {
   "cell_type": "code",
   "execution_count": 3,
   "metadata": {},
   "outputs": [
    {
     "output_type": "execute_result",
     "data": {
      "text/plain": "4"
     },
     "metadata": {},
     "execution_count": 3
    }
   ],
   "source": [
    "f.write(\"teee\")"
   ]
  },
  {
   "cell_type": "code",
   "execution_count": 13,
   "metadata": {},
   "outputs": [],
   "source": [
    "import shutil, os, subprocess"
   ]
  },
  {
   "cell_type": "code",
   "execution_count": 5,
   "metadata": {},
   "outputs": [
    {
     "output_type": "execute_result",
     "data": {
      "text/plain": "<function posix.chdir(path)>"
     },
     "metadata": {},
     "execution_count": 5
    }
   ],
   "source": [
    "os.chdir"
   ]
  },
  {
   "cell_type": "code",
   "execution_count": 9,
   "metadata": {},
   "outputs": [],
   "source": [
    "os.chdir('/Users/isaacyong/Dropbox/Python/project_rename_from_template')"
   ]
  },
  {
   "cell_type": "code",
   "execution_count": 10,
   "metadata": {},
   "outputs": [
    {
     "output_type": "execute_result",
     "data": {
      "text/plain": "'./delicious/test.txt'"
     },
     "metadata": {},
     "execution_count": 10
    }
   ],
   "source": [
    "shutil.copy('./test.txt','./delicious')"
   ]
  },
  {
   "cell_type": "code",
   "execution_count": 11,
   "metadata": {},
   "outputs": [
    {
     "output_type": "execute_result",
     "data": {
      "text/plain": "'/Users/isaacyong/Dropbox/Python/project_rename_from_template'"
     },
     "metadata": {},
     "execution_count": 11
    }
   ],
   "source": [
    "os.getcwd()"
   ]
  },
  {
   "cell_type": "code",
   "execution_count": 14,
   "metadata": {},
   "outputs": [
    {
     "output_type": "execute_result",
     "data": {
      "text/plain": "'./app2.py'"
     },
     "metadata": {},
     "execution_count": 14
    }
   ],
   "source": [
    "shutil.copy('./app.py', './app2.py')"
   ]
  },
  {
   "cell_type": "code",
   "execution_count": 15,
   "metadata": {},
   "outputs": [
    {
     "output_type": "execute_result",
     "data": {
      "text/plain": "'./app(1).py'"
     },
     "metadata": {},
     "execution_count": 15
    }
   ],
   "source": [
    "i = 1\n",
    "shutil.copy('./app.py',f'./app({i}).py')"
   ]
  },
  {
   "cell_type": "code",
   "execution_count": 16,
   "metadata": {},
   "outputs": [
    {
     "output_type": "execute_result",
     "data": {
      "text/plain": "'./app({i}).py'"
     },
     "metadata": {},
     "execution_count": 16
    }
   ],
   "source": [
    "i = 2\n",
    "shutil.copy('./app.py','./app({i}).py')"
   ]
  },
  {
   "cell_type": "code",
   "execution_count": 19,
   "metadata": {},
   "outputs": [
    {
     "output_type": "execute_result",
     "data": {
      "text/plain": "'./app(2).py'"
     },
     "metadata": {},
     "execution_count": 19
    }
   ],
   "source": [
    "\n",
    "shutil.copy('./app.py','./app({i}).py'.format(i = 2))"
   ]
  },
  {
   "cell_type": "code",
   "execution_count": 20,
   "metadata": {},
   "outputs": [
    {
     "output_type": "execute_result",
     "data": {
      "text/plain": "'./有何不可'"
     },
     "metadata": {},
     "execution_count": 20
    }
   ],
   "source": [
    "\n",
    "shutil.copytree('./00_PROJECT_FOLDER_TEMPLATE',f'./{song_title}')"
   ]
  },
  {
   "cell_type": "code",
   "execution_count": 3,
   "metadata": {
    "tags": []
   },
   "outputs": [
    {
     "output_type": "stream",
     "name": "stdout",
     "text": "The current folder is ./00_PROJECT_FOLDER_TEMPLATE\nSUBFOLDER OF ./00_PROJECT_FOLDER_TEMPLATE: 04_DOCS\nSUBFOLDER OF ./00_PROJECT_FOLDER_TEMPLATE: 02_AUDIOS\nSUBFOLDER OF ./00_PROJECT_FOLDER_TEMPLATE: 01_VIDEOS\nSUBFOLDER OF ./00_PROJECT_FOLDER_TEMPLATE: 03_GRAPHICS\nSUBFOLDER OF ./00_PROJECT_FOLDER_TEMPLATE: 05_PRODUCTION\nFILE INSIDE ./00_PROJECT_FOLDER_TEMPLATE: .DS_Store\n\nThe current folder is ./00_PROJECT_FOLDER_TEMPLATE/04_DOCS\nFILE INSIDE ./00_PROJECT_FOLDER_TEMPLATE/04_DOCS: Lyrics.txt\n\nThe current folder is ./00_PROJECT_FOLDER_TEMPLATE/02_AUDIOS\nSUBFOLDER OF ./00_PROJECT_FOLDER_TEMPLATE/02_AUDIOS: 00_NOT_USED\n\nThe current folder is ./00_PROJECT_FOLDER_TEMPLATE/02_AUDIOS/00_NOT_USED\n\nThe current folder is ./00_PROJECT_FOLDER_TEMPLATE/01_VIDEOS\n\nThe current folder is ./00_PROJECT_FOLDER_TEMPLATE/03_GRAPHICS\nFILE INSIDE ./00_PROJECT_FOLDER_TEMPLATE/03_GRAPHICS: TEMPLATE THUMBNAIL.psd\nFILE INSIDE ./00_PROJECT_FOLDER_TEMPLATE/03_GRAPHICS: TEMPLATE COVER ART.psd\nFILE INSIDE ./00_PROJECT_FOLDER_TEMPLATE/03_GRAPHICS: .DS_Store\n\nThe current folder is ./00_PROJECT_FOLDER_TEMPLATE/05_PRODUCTION\nSUBFOLDER OF ./00_PROJECT_FOLDER_TEMPLATE/05_PRODUCTION: 02_CUBASE\nSUBFOLDER OF ./00_PROJECT_FOLDER_TEMPLATE/05_PRODUCTION: 01_PREMIERE PRO\nSUBFOLDER OF ./00_PROJECT_FOLDER_TEMPLATE/05_PRODUCTION: 03_OZONE\nFILE INSIDE ./00_PROJECT_FOLDER_TEMPLATE/05_PRODUCTION: .DS_Store\n\nThe current folder is ./00_PROJECT_FOLDER_TEMPLATE/05_PRODUCTION/02_CUBASE\n\nThe current folder is ./00_PROJECT_FOLDER_TEMPLATE/05_PRODUCTION/01_PREMIERE PRO\nSUBFOLDER OF ./00_PROJECT_FOLDER_TEMPLATE/05_PRODUCTION/01_PREMIERE PRO: 03_ASSETS\nSUBFOLDER OF ./00_PROJECT_FOLDER_TEMPLATE/05_PRODUCTION/01_PREMIERE PRO: 02_AUDIO\nSUBFOLDER OF ./00_PROJECT_FOLDER_TEMPLATE/05_PRODUCTION/01_PREMIERE PRO: Adobe Premiere Pro Auto-Save\nSUBFOLDER OF ./00_PROJECT_FOLDER_TEMPLATE/05_PRODUCTION/01_PREMIERE PRO: 01_FOOTAGE\nFILE INSIDE ./00_PROJECT_FOLDER_TEMPLATE/05_PRODUCTION/01_PREMIERE PRO: TEMPLATE IG.prproj\nFILE INSIDE ./00_PROJECT_FOLDER_TEMPLATE/05_PRODUCTION/01_PREMIERE PRO: .DS_Store\nFILE INSIDE ./00_PROJECT_FOLDER_TEMPLATE/05_PRODUCTION/01_PREMIERE PRO: TEMPLATE 抖音.prproj\nFILE INSIDE ./00_PROJECT_FOLDER_TEMPLATE/05_PRODUCTION/01_PREMIERE PRO: TEMPLATE FB.prproj\nFILE INSIDE ./00_PROJECT_FOLDER_TEMPLATE/05_PRODUCTION/01_PREMIERE PRO: TEMPLATE.prproj\n\nThe current folder is ./00_PROJECT_FOLDER_TEMPLATE/05_PRODUCTION/01_PREMIERE PRO/03_ASSETS\nFILE INSIDE ./00_PROJECT_FOLDER_TEMPLATE/05_PRODUCTION/01_PREMIERE PRO/03_ASSETS: TEMPLATE IG OVERLAY.psd\nFILE INSIDE ./00_PROJECT_FOLDER_TEMPLATE/05_PRODUCTION/01_PREMIERE PRO/03_ASSETS: TEMPLATE 抖音 OVERLAY.psd\n\nThe current folder is ./00_PROJECT_FOLDER_TEMPLATE/05_PRODUCTION/01_PREMIERE PRO/02_AUDIO\n\nThe current folder is ./00_PROJECT_FOLDER_TEMPLATE/05_PRODUCTION/01_PREMIERE PRO/Adobe Premiere Pro Auto-Save\nFILE INSIDE ./00_PROJECT_FOLDER_TEMPLATE/05_PRODUCTION/01_PREMIERE PRO/Adobe Premiere Pro Auto-Save: TEMPLATE 抖音-2020-07-14_17-44-36.prproj\nFILE INSIDE ./00_PROJECT_FOLDER_TEMPLATE/05_PRODUCTION/01_PREMIERE PRO/Adobe Premiere Pro Auto-Save: TEMPLATE IG-2020-07-14_18-36-27.prproj\nFILE INSIDE ./00_PROJECT_FOLDER_TEMPLATE/05_PRODUCTION/01_PREMIERE PRO/Adobe Premiere Pro Auto-Save: TEMPLATE IG-2020-07-24_04-40-37.prproj\nFILE INSIDE ./00_PROJECT_FOLDER_TEMPLATE/05_PRODUCTION/01_PREMIERE PRO/Adobe Premiere Pro Auto-Save: TEMPLATE IG.prproj\nFILE INSIDE ./00_PROJECT_FOLDER_TEMPLATE/05_PRODUCTION/01_PREMIERE PRO/Adobe Premiere Pro Auto-Save: .DS_Store\nFILE INSIDE ./00_PROJECT_FOLDER_TEMPLATE/05_PRODUCTION/01_PREMIERE PRO/Adobe Premiere Pro Auto-Save: TEMPLATE 抖音-2020-07-14_18-05-20.prproj\nFILE INSIDE ./00_PROJECT_FOLDER_TEMPLATE/05_PRODUCTION/01_PREMIERE PRO/Adobe Premiere Pro Auto-Save: TEMPLATE 抖音.prproj\nFILE INSIDE ./00_PROJECT_FOLDER_TEMPLATE/05_PRODUCTION/01_PREMIERE PRO/Adobe Premiere Pro Auto-Save: TEMPLATE IG-2020-07-14_16-20-55.prproj\nFILE INSIDE ./00_PROJECT_FOLDER_TEMPLATE/05_PRODUCTION/01_PREMIERE PRO/Adobe Premiere Pro Auto-Save: TEMPLATE IG-2020-07-14_15-51-07.prproj\nFILE INSIDE ./00_PROJECT_FOLDER_TEMPLATE/05_PRODUCTION/01_PREMIERE PRO/Adobe Premiere Pro Auto-Save: TEMPLATE IG-2020-07-14_16-05-21.prproj\nFILE INSIDE ./00_PROJECT_FOLDER_TEMPLATE/05_PRODUCTION/01_PREMIERE PRO/Adobe Premiere Pro Auto-Save: TEMPLATE.prproj\n\nThe current folder is ./00_PROJECT_FOLDER_TEMPLATE/05_PRODUCTION/01_PREMIERE PRO/01_FOOTAGE\n\nThe current folder is ./00_PROJECT_FOLDER_TEMPLATE/05_PRODUCTION/03_OZONE\n\n"
    }
   ],
   "source": [
    "for folderName, subfolders, filenames in os.walk('./00_PROJECT_FOLDER_TEMPLATE'):\n",
    "    print('The current folder is ' + folderName)\n",
    "\n",
    "    for subfolder in subfolders:\n",
    "        print('SUBFOLDER OF ' + folderName + ': ' + subfolder)\n",
    "    \n",
    "    for filename in filenames:\n",
    "        print('FILE INSIDE ' + folderName + ': ' + filename)\n",
    "\n",
    "\n",
    "    print('')"
   ]
  },
  {
   "cell_type": "code",
   "execution_count": 27,
   "metadata": {
    "tags": []
   },
   "outputs": [
    {
     "output_type": "stream",
     "name": "stdout",
     "text": "./嚣张/04_DOCS/TEMPLATE suffix.txt\n"
    }
   ],
   "source": [
    "destination_path = './嚣张/04_DOCS/TEMPLATE suffix.txt'\n",
    "print(destination_path)"
   ]
  },
  {
   "cell_type": "code",
   "execution_count": 28,
   "metadata": {},
   "outputs": [
    {
     "output_type": "execute_result",
     "data": {
      "text/plain": "0"
     },
     "metadata": {},
     "execution_count": 28
    }
   ],
   "source": [
    "subprocess.call([\"open\",destination_path])"
   ]
  },
  {
   "cell_type": "code",
   "execution_count": 35,
   "metadata": {
    "tags": []
   },
   "outputs": [
    {
     "output_type": "stream",
     "name": "stdout",
     "text": "TEMPLATE suffix\n"
    }
   ],
   "source": [
    "from pathlib import Path\n",
    "\n",
    "filename = Path(destination_path).stem\n",
    "print(filename)"
   ]
  },
  {
   "cell_type": "code",
   "execution_count": 31,
   "metadata": {
    "tags": []
   },
   "outputs": [
    {
     "output_type": "stream",
     "name": "stdout",
     "text": "True\n"
    }
   ],
   "source": [
    "print('TEMPLATE' in filename)"
   ]
  },
  {
   "cell_type": "code",
   "execution_count": 40,
   "metadata": {
    "tags": []
   },
   "outputs": [
    {
     "output_type": "stream",
     "name": "stdout",
     "text": "TEMPLATE suffix\n['有何不可', 'suffix']\n有何不可 suffix\n"
    }
   ],
   "source": [
    "from pathlib import Path\n",
    "\n",
    "filename = Path(destination_path).stem\n",
    "print(filename)\n",
    "\n",
    "song_title = \"有何不可\"\n",
    "\n",
    "match_string = 'TEMPLATE' in filename\n",
    "\n",
    "if(match_string):\n",
    "    filename = filename.split(' ')\n",
    "    filename[0] = song_title \n",
    "    print(filename)\n",
    "  \n",
    "    str1 = ' '\n",
    "\n",
    "    new_filename = str1.join(str(elem) for elem in filename)\n",
    "    print(new_filename)\n",
    "else:\n",
    "    print('No match')"
   ]
  },
  {
   "cell_type": "code",
   "execution_count": 44,
   "metadata": {
    "tags": []
   },
   "outputs": [
    {
     "output_type": "error",
     "ename": "IndentationError",
     "evalue": "unexpected indent (<ipython-input-44-ef5bd4034c5f>, line 11)",
     "traceback": [
      "\u001b[0;36m  File \u001b[0;32m\"<ipython-input-44-ef5bd4034c5f>\"\u001b[0;36m, line \u001b[0;32m11\u001b[0m\n\u001b[0;31m    for folderName, subfolders, filenames in os.walk(destination_path):\u001b[0m\n\u001b[0m    ^\u001b[0m\n\u001b[0;31mIndentationError\u001b[0m\u001b[0;31m:\u001b[0m unexpected indent\n"
     ]
    }
   ],
   "source": [
    "    song_title = '1111'\n",
    "    template_path = './00_PROJECT_FOLDER_TEMPLATE'\n",
    "    template_string = 'TEMPLATE'\n",
    "\n",
    "    print(song_title)\n",
    "    destination_path = f'./{song_title}'\n",
    "\n",
    "    shutil.copytree(template_path, destination_path)\n",
    "    print(destination_path)\n",
    "\n",
    "    for folderName, subfolders, filenames in os.walk(destination_path):\n",
    "\n",
    "        print(f'The current folder is {folderName}')\n",
    "        \n",
    "        for subfolder in subfolders:\n",
    "            print(f'SUBFOLDER of {folderName}: {subfolder}') \n",
    "\n",
    "        for filename in filenames:\n",
    "            print(f'FILE INSIDE {folderName}: {filename}')"
   ]
  },
  {
   "cell_type": "code",
   "execution_count": null,
   "metadata": {},
   "outputs": [],
   "source": []
  }
 ]
}